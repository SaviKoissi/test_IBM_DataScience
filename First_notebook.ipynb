{
 "cells": [
  {
   "cell_type": "markdown",
   "metadata": {},
   "source": [
    "<h1> My Jupyter Notebook on IBM Watson Studio </h1>"
   ]
  },
  {
   "cell_type": "markdown",
   "metadata": {},
   "source": [
    "**Koissi Savi** PostDoc Fellow at HSPH"
   ]
  },
  {
   "cell_type": "markdown",
   "metadata": {},
   "source": [
    "<em>My current job involves curating large data sets and developing models to answer the most interesting questions. To meet these expectations, I will have to automate a lot of processes and tell compelling stories using the datasets available. There is no better way to learn how to tell amazing stories with data than by practicing and learning how to do it. That's why I'm interested in data science.</em>"
   ]
  },
  {
   "cell_type": "markdown",
   "metadata": {},
   "source": [
    "<h3>In the following line we will do simple computation, then create object in python.</h3> "
   ]
  },
  {
   "cell_type": "code",
   "execution_count": 6,
   "metadata": {},
   "outputs": [
    {
     "name": "stdout",
     "output_type": "stream",
     "text": [
      "2\n",
      "2\n"
     ]
    }
   ],
   "source": [
    "print(1+1)\n",
    "a = 1+ 1\n",
    "print(a) # we have just created an object a in the python environment. The function print() is used to display the result of our code"
   ]
  },
  {
   "cell_type": "markdown",
   "metadata": {},
   "source": [
    "We will try in the following sequence to render some characters\n",
    "<ul>\n",
    "    <li>Hyperlinks <a href=\"https://www.github.com/\"> Github </a> </li>\n",
    "</ul> \n",
    "<ul>\n",
    "   <li>Horizontal rule\n",
    "    \n",
    "    _______\n",
    "    \n",
    "</li> \n",
    "</ul> \n",
    "<ul>\n",
    "    <li> Code/syntax highlighting </li>\n",
    "        \n",
    "```\n",
    "        print (mean(alpha))\n",
    "       \n",
    "```\n",
    "        \n",
    "    \n",
    "</ul> \n",
    "<ul>\n",
    "    <li>Tables </li>\n",
    " </ul> \n",
    " \n",
    " | H1| Hn |\n",
    "| --- | ----------- |\n",
    "| a1 | b1 |\n",
    "| a2 | b2 |\n",
    "    "
   ]
  }
 ],
 "metadata": {
  "kernelspec": {
   "display_name": "Python 3 (ipykernel)",
   "language": "python",
   "name": "python3"
  },
  "language_info": {
   "codemirror_mode": {
    "name": "ipython",
    "version": 3
   },
   "file_extension": ".py",
   "mimetype": "text/x-python",
   "name": "python",
   "nbconvert_exporter": "python",
   "pygments_lexer": "ipython3",
   "version": "3.9.12"
  }
 },
 "nbformat": 4,
 "nbformat_minor": 4
}
